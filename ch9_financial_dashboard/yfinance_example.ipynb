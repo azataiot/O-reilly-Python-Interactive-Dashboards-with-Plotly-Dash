{
 "cells": [
  {
   "cell_type": "code",
   "execution_count": 3,
   "metadata": {
    "collapsed": true,
    "ExecuteTime": {
     "start_time": "2023-04-06T12:44:35.613993Z",
     "end_time": "2023-04-06T12:44:35.615630Z"
    }
   },
   "outputs": [],
   "source": [
    "import yfinance as yf"
   ]
  },
  {
   "cell_type": "code",
   "execution_count": 4,
   "outputs": [],
   "source": [
    "ticker = 'AAPL'"
   ],
   "metadata": {
    "collapsed": false,
    "ExecuteTime": {
     "start_time": "2023-04-06T12:44:36.207964Z",
     "end_time": "2023-04-06T12:44:36.208845Z"
    }
   }
  },
  {
   "cell_type": "code",
   "execution_count": 5,
   "outputs": [
    {
     "data": {
      "text/plain": "{'symbol': 'AAPL',\n 'dividendDate': 1676505600,\n 'twoHundredDayAverageChangePercent': 0.09912824,\n 'averageAnalystRating': '2.0 - Buy',\n 'fiftyTwoWeekLowChangePercent': 0.31883705,\n 'language': 'en-US',\n 'preMarketChangePercent': -0.6289685,\n 'regularMarketDayRange': '161.8 - 165.05',\n 'earningsTimestampEnd': 1682942400,\n 'epsForward': 6.59,\n 'regularMarketDayHigh': 165.05,\n 'twoHundredDayAverageChange': 14.769196,\n 'twoHundredDayAverage': 148.9908,\n 'askSize': 22,\n 'bookValue': 3.581,\n 'marketCap': 2620585672704,\n 'fiftyTwoWeekHighChange': -12.389999,\n 'fiftyTwoWeekRange': '124.17 - 176.15',\n 'fiftyDayAverageChange': 10.816193,\n 'exchangeDataDelayedBy': 0,\n 'averageDailyVolume3Month': 66485773,\n 'firstTradeDateMilliseconds': 345479400000,\n 'trailingAnnualDividendRate': 0.91,\n 'fiftyTwoWeekLow': 124.17,\n 'market': 'us_market',\n 'regularMarketVolume': 50263014,\n 'quoteSourceName': 'Nasdaq Real Time Price',\n 'messageBoardId': 'finmb_24937',\n 'priceHint': 2,\n 'regularMarketDayLow': 161.8,\n 'sourceInterval': 15,\n 'exchange': 'NMS',\n 'region': 'US',\n 'shortName': 'Apple Inc.',\n 'fiftyDayAverageChangePercent': 0.07072005,\n 'preMarketTime': 1680774279,\n 'fullExchangeName': 'NasdaqGS',\n 'earningsTimestampStart': 1682506740,\n 'financialCurrency': 'USD',\n 'displayName': 'Apple',\n 'gmtOffSetMilliseconds': -14400000,\n 'regularMarketOpen': 164.74,\n 'regularMarketTime': '4:00PM EDT',\n 'regularMarketChangePercent': -1.1290288,\n 'quoteType': 'EQUITY',\n 'trailingAnnualDividendYield': 0.0054941736,\n 'fiftyTwoWeekLowChange': 39.589996,\n 'averageDailyVolume10Day': 54941490,\n 'fiftyTwoWeekHighChangePercent': -0.07033778,\n 'typeDisp': 'Equity',\n 'trailingPE': 27.75593,\n 'tradeable': False,\n 'preMarketPrice': 162.73,\n 'currency': 'USD',\n 'sharesOutstanding': 15821899776,\n 'fiftyTwoWeekHigh': 176.15,\n 'regularMarketPreviousClose': 165.63,\n 'exchangeTimezoneName': 'America/New_York',\n 'regularMarketChange': -1.8700104,\n 'bidSize': 8,\n 'priceEpsCurrentYear': 27.47651,\n 'cryptoTradeable': False,\n 'fiftyDayAverage': 152.9438,\n 'exchangeTimezoneShortName': 'EDT',\n 'epsCurrentYear': 5.96,\n 'marketState': 'PRE',\n 'regularMarketPrice': 163.76,\n 'customPriceAlertConfidence': 'HIGH',\n 'preMarketChange': -1.0299988,\n 'forwardPE': 24.849771,\n 'earningsTimestamp': 1675375200,\n 'ask': 0.0,\n 'epsTrailingTwelveMonths': 5.9,\n 'bid': 0.0,\n 'triggerable': True,\n 'priceToBook': 45.73024,\n 'longName': 'Apple Inc.',\n 'trailingPegRatio': 2.7456}"
     },
     "execution_count": 5,
     "metadata": {},
     "output_type": "execute_result"
    }
   ],
   "source": [
    "yf.Ticker(ticker).info"
   ],
   "metadata": {
    "collapsed": false,
    "ExecuteTime": {
     "start_time": "2023-04-06T12:44:40.867964Z",
     "end_time": "2023-04-06T12:44:41.358132Z"
    }
   }
  },
  {
   "cell_type": "code",
   "execution_count": 6,
   "outputs": [
    {
     "data": {
      "text/plain": "                                 Open        High         Low       Close   \nDatetime                                                                    \n2023-04-05 09:30:00-04:00  164.740005  165.050003  164.279999  164.679993  \\\n2023-04-05 09:45:00-04:00  164.669998  164.710007  164.210007  164.620102   \n2023-04-05 10:00:00-04:00  164.649994  164.919998  163.979996  164.440002   \n2023-04-05 10:15:00-04:00  164.440002  164.570007  164.110001  164.120102   \n2023-04-05 10:30:00-04:00  164.119995  164.180099  163.619995  163.625000   \n2023-04-05 10:45:00-04:00  163.619995  163.865494  163.289993  163.320007   \n2023-04-05 11:00:00-04:00  163.320007  163.770004  163.210007  163.669205   \n2023-04-05 11:15:00-04:00  163.679993  163.770004  163.279999  163.279999   \n2023-04-05 11:30:00-04:00  163.279999  163.520004  163.115005  163.119995   \n2023-04-05 11:45:00-04:00  163.119995  163.190002  162.679993  162.960098   \n2023-04-05 12:00:00-04:00  162.979996  163.000000  162.419998  162.429993   \n2023-04-05 12:15:00-04:00  162.434998  162.559906  162.110001  162.229996   \n2023-04-05 12:30:00-04:00  162.199997  162.287003  161.800003  162.080002   \n2023-04-05 12:45:00-04:00  162.070007  162.490005  162.039993  162.330002   \n2023-04-05 13:00:00-04:00  162.330002  162.729996  162.259995  162.649994   \n2023-04-05 13:15:00-04:00  162.649994  162.970001  162.639999  162.869995   \n2023-04-05 13:30:00-04:00  162.869995  163.095001  162.800003  162.854996   \n2023-04-05 13:45:00-04:00  162.850998  162.990005  162.649994  162.945007   \n2023-04-05 14:00:00-04:00  162.949997  163.119202  162.770004  162.820496   \n2023-04-05 14:15:00-04:00  162.820007  162.889999  162.649994  162.697601   \n2023-04-05 14:30:00-04:00  162.690002  163.250000  162.669998  163.002899   \n2023-04-05 14:45:00-04:00  163.000702  163.304993  163.000702  163.240005   \n2023-04-05 15:00:00-04:00  163.238800  163.289993  162.929993  162.964996   \n2023-04-05 15:15:00-04:00  162.970001  163.399994  162.970001  163.255005   \n2023-04-05 15:30:00-04:00  163.259995  163.559998  163.210007  163.539902   \n2023-04-05 15:45:00-04:00  163.535004  163.949997  163.345001  163.750000   \n\n                            Volume  Dividends  Stock Splits  \nDatetime                                                     \n2023-04-05 09:30:00-04:00  4620777        0.0           0.0  \n2023-04-05 09:45:00-04:00  2531246        0.0           0.0  \n2023-04-05 10:00:00-04:00  2471020        0.0           0.0  \n2023-04-05 10:15:00-04:00  1946798        0.0           0.0  \n2023-04-05 10:30:00-04:00  1761323        0.0           0.0  \n2023-04-05 10:45:00-04:00  1655030        0.0           0.0  \n2023-04-05 11:00:00-04:00  1707659        0.0           0.0  \n2023-04-05 11:15:00-04:00  1275353        0.0           0.0  \n2023-04-05 11:30:00-04:00  1270698        0.0           0.0  \n2023-04-05 11:45:00-04:00  1917780        0.0           0.0  \n2023-04-05 12:00:00-04:00  1704294        0.0           0.0  \n2023-04-05 12:15:00-04:00  1804382        0.0           0.0  \n2023-04-05 12:30:00-04:00  2038849        0.0           0.0  \n2023-04-05 12:45:00-04:00  1166715        0.0           0.0  \n2023-04-05 13:00:00-04:00  1381695        0.0           0.0  \n2023-04-05 13:15:00-04:00  1345601        0.0           0.0  \n2023-04-05 13:30:00-04:00  1000498        0.0           0.0  \n2023-04-05 13:45:00-04:00  1195132        0.0           0.0  \n2023-04-05 14:00:00-04:00  1190303        0.0           0.0  \n2023-04-05 14:15:00-04:00   883069        0.0           0.0  \n2023-04-05 14:30:00-04:00  1272987        0.0           0.0  \n2023-04-05 14:45:00-04:00   884027        0.0           0.0  \n2023-04-05 15:00:00-04:00  1169522        0.0           0.0  \n2023-04-05 15:15:00-04:00  1462590        0.0           0.0  \n2023-04-05 15:30:00-04:00  1867944        0.0           0.0  \n2023-04-05 15:45:00-04:00  4000055        0.0           0.0  ",
      "text/html": "<div>\n<style scoped>\n    .dataframe tbody tr th:only-of-type {\n        vertical-align: middle;\n    }\n\n    .dataframe tbody tr th {\n        vertical-align: top;\n    }\n\n    .dataframe thead th {\n        text-align: right;\n    }\n</style>\n<table border=\"1\" class=\"dataframe\">\n  <thead>\n    <tr style=\"text-align: right;\">\n      <th></th>\n      <th>Open</th>\n      <th>High</th>\n      <th>Low</th>\n      <th>Close</th>\n      <th>Volume</th>\n      <th>Dividends</th>\n      <th>Stock Splits</th>\n    </tr>\n    <tr>\n      <th>Datetime</th>\n      <th></th>\n      <th></th>\n      <th></th>\n      <th></th>\n      <th></th>\n      <th></th>\n      <th></th>\n    </tr>\n  </thead>\n  <tbody>\n    <tr>\n      <th>2023-04-05 09:30:00-04:00</th>\n      <td>164.740005</td>\n      <td>165.050003</td>\n      <td>164.279999</td>\n      <td>164.679993</td>\n      <td>4620777</td>\n      <td>0.0</td>\n      <td>0.0</td>\n    </tr>\n    <tr>\n      <th>2023-04-05 09:45:00-04:00</th>\n      <td>164.669998</td>\n      <td>164.710007</td>\n      <td>164.210007</td>\n      <td>164.620102</td>\n      <td>2531246</td>\n      <td>0.0</td>\n      <td>0.0</td>\n    </tr>\n    <tr>\n      <th>2023-04-05 10:00:00-04:00</th>\n      <td>164.649994</td>\n      <td>164.919998</td>\n      <td>163.979996</td>\n      <td>164.440002</td>\n      <td>2471020</td>\n      <td>0.0</td>\n      <td>0.0</td>\n    </tr>\n    <tr>\n      <th>2023-04-05 10:15:00-04:00</th>\n      <td>164.440002</td>\n      <td>164.570007</td>\n      <td>164.110001</td>\n      <td>164.120102</td>\n      <td>1946798</td>\n      <td>0.0</td>\n      <td>0.0</td>\n    </tr>\n    <tr>\n      <th>2023-04-05 10:30:00-04:00</th>\n      <td>164.119995</td>\n      <td>164.180099</td>\n      <td>163.619995</td>\n      <td>163.625000</td>\n      <td>1761323</td>\n      <td>0.0</td>\n      <td>0.0</td>\n    </tr>\n    <tr>\n      <th>2023-04-05 10:45:00-04:00</th>\n      <td>163.619995</td>\n      <td>163.865494</td>\n      <td>163.289993</td>\n      <td>163.320007</td>\n      <td>1655030</td>\n      <td>0.0</td>\n      <td>0.0</td>\n    </tr>\n    <tr>\n      <th>2023-04-05 11:00:00-04:00</th>\n      <td>163.320007</td>\n      <td>163.770004</td>\n      <td>163.210007</td>\n      <td>163.669205</td>\n      <td>1707659</td>\n      <td>0.0</td>\n      <td>0.0</td>\n    </tr>\n    <tr>\n      <th>2023-04-05 11:15:00-04:00</th>\n      <td>163.679993</td>\n      <td>163.770004</td>\n      <td>163.279999</td>\n      <td>163.279999</td>\n      <td>1275353</td>\n      <td>0.0</td>\n      <td>0.0</td>\n    </tr>\n    <tr>\n      <th>2023-04-05 11:30:00-04:00</th>\n      <td>163.279999</td>\n      <td>163.520004</td>\n      <td>163.115005</td>\n      <td>163.119995</td>\n      <td>1270698</td>\n      <td>0.0</td>\n      <td>0.0</td>\n    </tr>\n    <tr>\n      <th>2023-04-05 11:45:00-04:00</th>\n      <td>163.119995</td>\n      <td>163.190002</td>\n      <td>162.679993</td>\n      <td>162.960098</td>\n      <td>1917780</td>\n      <td>0.0</td>\n      <td>0.0</td>\n    </tr>\n    <tr>\n      <th>2023-04-05 12:00:00-04:00</th>\n      <td>162.979996</td>\n      <td>163.000000</td>\n      <td>162.419998</td>\n      <td>162.429993</td>\n      <td>1704294</td>\n      <td>0.0</td>\n      <td>0.0</td>\n    </tr>\n    <tr>\n      <th>2023-04-05 12:15:00-04:00</th>\n      <td>162.434998</td>\n      <td>162.559906</td>\n      <td>162.110001</td>\n      <td>162.229996</td>\n      <td>1804382</td>\n      <td>0.0</td>\n      <td>0.0</td>\n    </tr>\n    <tr>\n      <th>2023-04-05 12:30:00-04:00</th>\n      <td>162.199997</td>\n      <td>162.287003</td>\n      <td>161.800003</td>\n      <td>162.080002</td>\n      <td>2038849</td>\n      <td>0.0</td>\n      <td>0.0</td>\n    </tr>\n    <tr>\n      <th>2023-04-05 12:45:00-04:00</th>\n      <td>162.070007</td>\n      <td>162.490005</td>\n      <td>162.039993</td>\n      <td>162.330002</td>\n      <td>1166715</td>\n      <td>0.0</td>\n      <td>0.0</td>\n    </tr>\n    <tr>\n      <th>2023-04-05 13:00:00-04:00</th>\n      <td>162.330002</td>\n      <td>162.729996</td>\n      <td>162.259995</td>\n      <td>162.649994</td>\n      <td>1381695</td>\n      <td>0.0</td>\n      <td>0.0</td>\n    </tr>\n    <tr>\n      <th>2023-04-05 13:15:00-04:00</th>\n      <td>162.649994</td>\n      <td>162.970001</td>\n      <td>162.639999</td>\n      <td>162.869995</td>\n      <td>1345601</td>\n      <td>0.0</td>\n      <td>0.0</td>\n    </tr>\n    <tr>\n      <th>2023-04-05 13:30:00-04:00</th>\n      <td>162.869995</td>\n      <td>163.095001</td>\n      <td>162.800003</td>\n      <td>162.854996</td>\n      <td>1000498</td>\n      <td>0.0</td>\n      <td>0.0</td>\n    </tr>\n    <tr>\n      <th>2023-04-05 13:45:00-04:00</th>\n      <td>162.850998</td>\n      <td>162.990005</td>\n      <td>162.649994</td>\n      <td>162.945007</td>\n      <td>1195132</td>\n      <td>0.0</td>\n      <td>0.0</td>\n    </tr>\n    <tr>\n      <th>2023-04-05 14:00:00-04:00</th>\n      <td>162.949997</td>\n      <td>163.119202</td>\n      <td>162.770004</td>\n      <td>162.820496</td>\n      <td>1190303</td>\n      <td>0.0</td>\n      <td>0.0</td>\n    </tr>\n    <tr>\n      <th>2023-04-05 14:15:00-04:00</th>\n      <td>162.820007</td>\n      <td>162.889999</td>\n      <td>162.649994</td>\n      <td>162.697601</td>\n      <td>883069</td>\n      <td>0.0</td>\n      <td>0.0</td>\n    </tr>\n    <tr>\n      <th>2023-04-05 14:30:00-04:00</th>\n      <td>162.690002</td>\n      <td>163.250000</td>\n      <td>162.669998</td>\n      <td>163.002899</td>\n      <td>1272987</td>\n      <td>0.0</td>\n      <td>0.0</td>\n    </tr>\n    <tr>\n      <th>2023-04-05 14:45:00-04:00</th>\n      <td>163.000702</td>\n      <td>163.304993</td>\n      <td>163.000702</td>\n      <td>163.240005</td>\n      <td>884027</td>\n      <td>0.0</td>\n      <td>0.0</td>\n    </tr>\n    <tr>\n      <th>2023-04-05 15:00:00-04:00</th>\n      <td>163.238800</td>\n      <td>163.289993</td>\n      <td>162.929993</td>\n      <td>162.964996</td>\n      <td>1169522</td>\n      <td>0.0</td>\n      <td>0.0</td>\n    </tr>\n    <tr>\n      <th>2023-04-05 15:15:00-04:00</th>\n      <td>162.970001</td>\n      <td>163.399994</td>\n      <td>162.970001</td>\n      <td>163.255005</td>\n      <td>1462590</td>\n      <td>0.0</td>\n      <td>0.0</td>\n    </tr>\n    <tr>\n      <th>2023-04-05 15:30:00-04:00</th>\n      <td>163.259995</td>\n      <td>163.559998</td>\n      <td>163.210007</td>\n      <td>163.539902</td>\n      <td>1867944</td>\n      <td>0.0</td>\n      <td>0.0</td>\n    </tr>\n    <tr>\n      <th>2023-04-05 15:45:00-04:00</th>\n      <td>163.535004</td>\n      <td>163.949997</td>\n      <td>163.345001</td>\n      <td>163.750000</td>\n      <td>4000055</td>\n      <td>0.0</td>\n      <td>0.0</td>\n    </tr>\n  </tbody>\n</table>\n</div>"
     },
     "execution_count": 6,
     "metadata": {},
     "output_type": "execute_result"
    }
   ],
   "source": [
    "yf.Ticker(ticker).history(period='1d', interval='15m')"
   ],
   "metadata": {
    "collapsed": false,
    "ExecuteTime": {
     "start_time": "2023-04-06T12:46:00.005975Z",
     "end_time": "2023-04-06T12:46:00.340677Z"
    }
   }
  },
  {
   "cell_type": "code",
   "execution_count": 7,
   "outputs": [
    {
     "data": {
      "text/plain": "                                 Open        High         Low       Close   \nDatetime                                                                    \n2023-03-06 09:30:00-05:00  256.424988  257.510010  255.979996  257.304993  \\\n2023-03-06 09:35:00-05:00  257.309998  257.779999  256.640015  257.609985   \n2023-03-06 09:40:00-05:00  257.636993  257.899994  257.200012  257.730011   \n2023-03-06 09:45:00-05:00  257.750000  257.970001  257.012390  257.290009   \n2023-03-06 09:50:00-05:00  257.290009  257.737488  257.220001  257.619995   \n...                               ...         ...         ...         ...   \n2023-04-05 15:35:00-04:00  284.084991  284.359985  284.070007  284.079987   \n2023-04-05 15:40:00-04:00  284.070007  284.500000  284.000000  284.480011   \n2023-04-05 15:45:00-04:00  284.480011  284.565002  284.320007  284.450012   \n2023-04-05 15:50:00-04:00  284.459991  284.769989  284.325012  284.690002   \n2023-04-05 15:55:00-04:00  284.700012  284.769989  284.260010  284.339996   \n\n                            Volume  Dividends  Stock Splits  \nDatetime                                                     \n2023-03-06 09:30:00-05:00  1114504        0.0           0.0  \n2023-03-06 09:35:00-05:00   526840        0.0           0.0  \n2023-03-06 09:40:00-05:00   391278        0.0           0.0  \n2023-03-06 09:45:00-05:00   338606        0.0           0.0  \n2023-03-06 09:50:00-05:00   241414        0.0           0.0  \n...                            ...        ...           ...  \n2023-04-05 15:35:00-04:00   231230        0.0           0.0  \n2023-04-05 15:40:00-04:00   236562        0.0           0.0  \n2023-04-05 15:45:00-04:00   236921        0.0           0.0  \n2023-04-05 15:50:00-04:00   384185        0.0           0.0  \n2023-04-05 15:55:00-04:00   954128        0.0           0.0  \n\n[1794 rows x 7 columns]",
      "text/html": "<div>\n<style scoped>\n    .dataframe tbody tr th:only-of-type {\n        vertical-align: middle;\n    }\n\n    .dataframe tbody tr th {\n        vertical-align: top;\n    }\n\n    .dataframe thead th {\n        text-align: right;\n    }\n</style>\n<table border=\"1\" class=\"dataframe\">\n  <thead>\n    <tr style=\"text-align: right;\">\n      <th></th>\n      <th>Open</th>\n      <th>High</th>\n      <th>Low</th>\n      <th>Close</th>\n      <th>Volume</th>\n      <th>Dividends</th>\n      <th>Stock Splits</th>\n    </tr>\n    <tr>\n      <th>Datetime</th>\n      <th></th>\n      <th></th>\n      <th></th>\n      <th></th>\n      <th></th>\n      <th></th>\n      <th></th>\n    </tr>\n  </thead>\n  <tbody>\n    <tr>\n      <th>2023-03-06 09:30:00-05:00</th>\n      <td>256.424988</td>\n      <td>257.510010</td>\n      <td>255.979996</td>\n      <td>257.304993</td>\n      <td>1114504</td>\n      <td>0.0</td>\n      <td>0.0</td>\n    </tr>\n    <tr>\n      <th>2023-03-06 09:35:00-05:00</th>\n      <td>257.309998</td>\n      <td>257.779999</td>\n      <td>256.640015</td>\n      <td>257.609985</td>\n      <td>526840</td>\n      <td>0.0</td>\n      <td>0.0</td>\n    </tr>\n    <tr>\n      <th>2023-03-06 09:40:00-05:00</th>\n      <td>257.636993</td>\n      <td>257.899994</td>\n      <td>257.200012</td>\n      <td>257.730011</td>\n      <td>391278</td>\n      <td>0.0</td>\n      <td>0.0</td>\n    </tr>\n    <tr>\n      <th>2023-03-06 09:45:00-05:00</th>\n      <td>257.750000</td>\n      <td>257.970001</td>\n      <td>257.012390</td>\n      <td>257.290009</td>\n      <td>338606</td>\n      <td>0.0</td>\n      <td>0.0</td>\n    </tr>\n    <tr>\n      <th>2023-03-06 09:50:00-05:00</th>\n      <td>257.290009</td>\n      <td>257.737488</td>\n      <td>257.220001</td>\n      <td>257.619995</td>\n      <td>241414</td>\n      <td>0.0</td>\n      <td>0.0</td>\n    </tr>\n    <tr>\n      <th>...</th>\n      <td>...</td>\n      <td>...</td>\n      <td>...</td>\n      <td>...</td>\n      <td>...</td>\n      <td>...</td>\n      <td>...</td>\n    </tr>\n    <tr>\n      <th>2023-04-05 15:35:00-04:00</th>\n      <td>284.084991</td>\n      <td>284.359985</td>\n      <td>284.070007</td>\n      <td>284.079987</td>\n      <td>231230</td>\n      <td>0.0</td>\n      <td>0.0</td>\n    </tr>\n    <tr>\n      <th>2023-04-05 15:40:00-04:00</th>\n      <td>284.070007</td>\n      <td>284.500000</td>\n      <td>284.000000</td>\n      <td>284.480011</td>\n      <td>236562</td>\n      <td>0.0</td>\n      <td>0.0</td>\n    </tr>\n    <tr>\n      <th>2023-04-05 15:45:00-04:00</th>\n      <td>284.480011</td>\n      <td>284.565002</td>\n      <td>284.320007</td>\n      <td>284.450012</td>\n      <td>236921</td>\n      <td>0.0</td>\n      <td>0.0</td>\n    </tr>\n    <tr>\n      <th>2023-04-05 15:50:00-04:00</th>\n      <td>284.459991</td>\n      <td>284.769989</td>\n      <td>284.325012</td>\n      <td>284.690002</td>\n      <td>384185</td>\n      <td>0.0</td>\n      <td>0.0</td>\n    </tr>\n    <tr>\n      <th>2023-04-05 15:55:00-04:00</th>\n      <td>284.700012</td>\n      <td>284.769989</td>\n      <td>284.260010</td>\n      <td>284.339996</td>\n      <td>954128</td>\n      <td>0.0</td>\n      <td>0.0</td>\n    </tr>\n  </tbody>\n</table>\n<p>1794 rows × 7 columns</p>\n</div>"
     },
     "execution_count": 7,
     "metadata": {},
     "output_type": "execute_result"
    }
   ],
   "source": [
    "yf.Ticker('MSFT').history(period='1mo', interval='5m')"
   ],
   "metadata": {
    "collapsed": false,
    "ExecuteTime": {
     "start_time": "2023-04-06T12:47:04.582762Z",
     "end_time": "2023-04-06T12:47:04.905358Z"
    }
   }
  },
  {
   "cell_type": "code",
   "execution_count": null,
   "outputs": [],
   "source": [],
   "metadata": {
    "collapsed": false
   }
  }
 ],
 "metadata": {
  "kernelspec": {
   "display_name": "Python 3",
   "language": "python",
   "name": "python3"
  },
  "language_info": {
   "codemirror_mode": {
    "name": "ipython",
    "version": 2
   },
   "file_extension": ".py",
   "mimetype": "text/x-python",
   "name": "python",
   "nbconvert_exporter": "python",
   "pygments_lexer": "ipython2",
   "version": "2.7.6"
  }
 },
 "nbformat": 4,
 "nbformat_minor": 0
}
