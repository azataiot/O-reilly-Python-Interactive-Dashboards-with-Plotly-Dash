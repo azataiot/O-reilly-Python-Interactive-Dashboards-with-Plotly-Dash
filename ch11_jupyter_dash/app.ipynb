{
 "cells": [
  {
   "cell_type": "markdown",
   "source": [
    "# Jupyter Dash"
   ],
   "metadata": {
    "collapsed": false
   }
  },
  {
   "cell_type": "markdown",
   "source": [
    "## Install Jupyter Dash"
   ],
   "metadata": {
    "collapsed": false
   }
  },
  {
   "cell_type": "code",
   "execution_count": 1,
   "outputs": [],
   "source": [
    "# !pip install jupyter-dash"
   ],
   "metadata": {
    "collapsed": false,
    "ExecuteTime": {
     "start_time": "2023-04-06T14:29:59.916370Z",
     "end_time": "2023-04-06T14:29:59.920762Z"
    }
   }
  },
  {
   "cell_type": "markdown",
   "source": [
    "## Import libraries"
   ],
   "metadata": {
    "collapsed": false
   }
  },
  {
   "cell_type": "code",
   "execution_count": 2,
   "outputs": [],
   "source": [
    "from jupyter_dash import JupyterDash\n",
    "from dash import dcc, html, Input, Output, State"
   ],
   "metadata": {
    "collapsed": false,
    "ExecuteTime": {
     "start_time": "2023-04-06T14:30:47.913116Z",
     "end_time": "2023-04-06T14:30:48.029418Z"
    }
   }
  },
  {
   "cell_type": "code",
   "execution_count": 3,
   "outputs": [],
   "source": [
    "import dash_bootstrap_components as dbc"
   ],
   "metadata": {
    "collapsed": false,
    "ExecuteTime": {
     "start_time": "2023-04-06T14:30:56.385917Z",
     "end_time": "2023-04-06T14:30:56.420303Z"
    }
   }
  },
  {
   "cell_type": "code",
   "execution_count": 4,
   "outputs": [],
   "source": [
    "import pandas as pd"
   ],
   "metadata": {
    "collapsed": false,
    "ExecuteTime": {
     "start_time": "2023-04-06T14:31:02.192635Z",
     "end_time": "2023-04-06T14:31:02.416166Z"
    }
   }
  },
  {
   "cell_type": "code",
   "execution_count": 5,
   "outputs": [],
   "source": [
    "import plotly.express as px"
   ],
   "metadata": {
    "collapsed": false,
    "ExecuteTime": {
     "start_time": "2023-04-06T14:31:08.469445Z",
     "end_time": "2023-04-06T14:31:08.535613Z"
    }
   }
  },
  {
   "cell_type": "markdown",
   "source": [
    "## Load data"
   ],
   "metadata": {
    "collapsed": false
   }
  },
  {
   "cell_type": "code",
   "execution_count": 6,
   "outputs": [],
   "source": [
    "df = pd.read_csv('../ch4_layout/world_happiness.csv')"
   ],
   "metadata": {
    "collapsed": false,
    "ExecuteTime": {
     "start_time": "2023-04-06T14:31:58.190936Z",
     "end_time": "2023-04-06T14:31:58.200151Z"
    }
   }
  },
  {
   "cell_type": "code",
   "execution_count": 7,
   "outputs": [
    {
     "data": {
      "text/plain": "     country                     region  happiness_rank  happiness_score  year\n0  Australia  Australia and New Zealand              10            7.284  2015\n1  Australia  Australia and New Zealand               9            7.313  2016\n2  Australia  Australia and New Zealand              10            7.284  2017\n3  Australia  Australia and New Zealand              10            7.272  2018\n4  Australia  Australia and New Zealand              11            7.228  2019",
      "text/html": "<div>\n<style scoped>\n    .dataframe tbody tr th:only-of-type {\n        vertical-align: middle;\n    }\n\n    .dataframe tbody tr th {\n        vertical-align: top;\n    }\n\n    .dataframe thead th {\n        text-align: right;\n    }\n</style>\n<table border=\"1\" class=\"dataframe\">\n  <thead>\n    <tr style=\"text-align: right;\">\n      <th></th>\n      <th>country</th>\n      <th>region</th>\n      <th>happiness_rank</th>\n      <th>happiness_score</th>\n      <th>year</th>\n    </tr>\n  </thead>\n  <tbody>\n    <tr>\n      <th>0</th>\n      <td>Australia</td>\n      <td>Australia and New Zealand</td>\n      <td>10</td>\n      <td>7.284</td>\n      <td>2015</td>\n    </tr>\n    <tr>\n      <th>1</th>\n      <td>Australia</td>\n      <td>Australia and New Zealand</td>\n      <td>9</td>\n      <td>7.313</td>\n      <td>2016</td>\n    </tr>\n    <tr>\n      <th>2</th>\n      <td>Australia</td>\n      <td>Australia and New Zealand</td>\n      <td>10</td>\n      <td>7.284</td>\n      <td>2017</td>\n    </tr>\n    <tr>\n      <th>3</th>\n      <td>Australia</td>\n      <td>Australia and New Zealand</td>\n      <td>10</td>\n      <td>7.272</td>\n      <td>2018</td>\n    </tr>\n    <tr>\n      <th>4</th>\n      <td>Australia</td>\n      <td>Australia and New Zealand</td>\n      <td>11</td>\n      <td>7.228</td>\n      <td>2019</td>\n    </tr>\n  </tbody>\n</table>\n</div>"
     },
     "execution_count": 7,
     "metadata": {},
     "output_type": "execute_result"
    }
   ],
   "source": [
    "df.head()"
   ],
   "metadata": {
    "collapsed": false,
    "ExecuteTime": {
     "start_time": "2023-04-06T14:32:00.157721Z",
     "end_time": "2023-04-06T14:32:00.163958Z"
    }
   }
  },
  {
   "cell_type": "code",
   "execution_count": 8,
   "outputs": [
    {
     "name": "stdout",
     "output_type": "stream",
     "text": [
      "<class 'pandas.core.frame.DataFrame'>\n",
      "RangeIndex: 852 entries, 0 to 851\n",
      "Data columns (total 5 columns):\n",
      " #   Column           Non-Null Count  Dtype  \n",
      "---  ------           --------------  -----  \n",
      " 0   country          852 non-null    object \n",
      " 1   region           852 non-null    object \n",
      " 2   happiness_rank   852 non-null    int64  \n",
      " 3   happiness_score  852 non-null    float64\n",
      " 4   year             852 non-null    int64  \n",
      "dtypes: float64(1), int64(2), object(2)\n",
      "memory usage: 33.4+ KB\n"
     ]
    }
   ],
   "source": [
    "df.info()"
   ],
   "metadata": {
    "collapsed": false,
    "ExecuteTime": {
     "start_time": "2023-04-06T14:32:03.409695Z",
     "end_time": "2023-04-06T14:32:03.412149Z"
    }
   }
  },
  {
   "cell_type": "code",
   "execution_count": 11,
   "outputs": [
    {
     "data": {
      "text/plain": "       happiness_rank  happiness_score         year\ncount      852.000000       852.000000   852.000000\nmean        75.384977         5.468441  2017.500000\nstd         44.604934         1.108810     1.708828\nmin          0.000000         2.566900  2015.000000\n25%         37.000000         4.604000  2016.000000\n50%         74.000000         5.485500  2017.500000\n75%        114.000000         6.283700  2019.000000\nmax        158.000000         7.808700  2020.000000",
      "text/html": "<div>\n<style scoped>\n    .dataframe tbody tr th:only-of-type {\n        vertical-align: middle;\n    }\n\n    .dataframe tbody tr th {\n        vertical-align: top;\n    }\n\n    .dataframe thead th {\n        text-align: right;\n    }\n</style>\n<table border=\"1\" class=\"dataframe\">\n  <thead>\n    <tr style=\"text-align: right;\">\n      <th></th>\n      <th>happiness_rank</th>\n      <th>happiness_score</th>\n      <th>year</th>\n    </tr>\n  </thead>\n  <tbody>\n    <tr>\n      <th>count</th>\n      <td>852.000000</td>\n      <td>852.000000</td>\n      <td>852.000000</td>\n    </tr>\n    <tr>\n      <th>mean</th>\n      <td>75.384977</td>\n      <td>5.468441</td>\n      <td>2017.500000</td>\n    </tr>\n    <tr>\n      <th>std</th>\n      <td>44.604934</td>\n      <td>1.108810</td>\n      <td>1.708828</td>\n    </tr>\n    <tr>\n      <th>min</th>\n      <td>0.000000</td>\n      <td>2.566900</td>\n      <td>2015.000000</td>\n    </tr>\n    <tr>\n      <th>25%</th>\n      <td>37.000000</td>\n      <td>4.604000</td>\n      <td>2016.000000</td>\n    </tr>\n    <tr>\n      <th>50%</th>\n      <td>74.000000</td>\n      <td>5.485500</td>\n      <td>2017.500000</td>\n    </tr>\n    <tr>\n      <th>75%</th>\n      <td>114.000000</td>\n      <td>6.283700</td>\n      <td>2019.000000</td>\n    </tr>\n    <tr>\n      <th>max</th>\n      <td>158.000000</td>\n      <td>7.808700</td>\n      <td>2020.000000</td>\n    </tr>\n  </tbody>\n</table>\n</div>"
     },
     "execution_count": 11,
     "metadata": {},
     "output_type": "execute_result"
    }
   ],
   "source": [
    "df.describe()"
   ],
   "metadata": {
    "collapsed": false,
    "ExecuteTime": {
     "start_time": "2023-04-06T14:32:26.410277Z",
     "end_time": "2023-04-06T14:32:26.417781Z"
    }
   }
  },
  {
   "cell_type": "markdown",
   "source": [
    "## Create app"
   ],
   "metadata": {
    "collapsed": false
   }
  },
  {
   "cell_type": "code",
   "execution_count": 12,
   "outputs": [],
   "source": [
    "app = JupyterDash(__name__, external_stylesheets=[dbc.themes.BOOTSTRAP])\n",
    "\n",
    "app.layout = html.Div([\n",
    "    dbc.Row([\n",
    "        dbc.Col([\n",
    "            html.H1('World Happiness Report'),\n",
    "            html.P('This dashboard shows the happiness score of countries around the world.'),\n",
    "            html.P('The data is from the World Happiness Report 2021.')])\n",
    "\n",
    "    ]),\n",
    "    ])\n"
   ],
   "metadata": {
    "collapsed": false,
    "ExecuteTime": {
     "start_time": "2023-04-06T14:34:26.079223Z",
     "end_time": "2023-04-06T14:34:26.085039Z"
    }
   }
  },
  {
   "cell_type": "markdown",
   "source": [
    "## Run app - 3 available options, external, inline, or jupyterlab"
   ],
   "metadata": {
    "collapsed": false
   }
  },
  {
   "cell_type": "code",
   "execution_count": 13,
   "outputs": [
    {
     "name": "stdout",
     "output_type": "stream",
     "text": [
      "Dash is running on http://127.0.0.1:8050/\n",
      "\n",
      "Dash app running on http://127.0.0.1:8050/\n"
     ]
    }
   ],
   "source": [
    "app.run_server(mode='external')"
   ],
   "metadata": {
    "collapsed": false,
    "ExecuteTime": {
     "start_time": "2023-04-06T14:35:08.414730Z",
     "end_time": "2023-04-06T14:35:08.446546Z"
    }
   }
  },
  {
   "cell_type": "markdown",
   "source": [
    "![](external.png)"
   ],
   "metadata": {
    "collapsed": false
   }
  },
  {
   "cell_type": "code",
   "execution_count": 14,
   "outputs": [
    {
     "name": "stdout",
     "output_type": "stream",
     "text": [
      "Dash is running on http://127.0.0.1:8050/\n",
      "\n"
     ]
    },
    {
     "data": {
      "text/plain": "<IPython.lib.display.IFrame at 0x117827b90>",
      "text/html": "\n        <iframe\n            width=\"100%\"\n            height=\"650\"\n            src=\"http://127.0.0.1:8050/\"\n            frameborder=\"0\"\n            allowfullscreen\n            \n        ></iframe>\n        "
     },
     "metadata": {},
     "output_type": "display_data"
    }
   ],
   "source": [
    "app.run_server(mode='inline')"
   ],
   "metadata": {
    "collapsed": false,
    "ExecuteTime": {
     "start_time": "2023-04-06T14:36:13.189888Z",
     "end_time": "2023-04-06T14:36:13.309185Z"
    }
   }
  },
  {
   "cell_type": "code",
   "execution_count": null,
   "outputs": [],
   "source": [],
   "metadata": {
    "collapsed": false
   }
  }
 ],
 "metadata": {
  "kernelspec": {
   "display_name": "Python 3",
   "language": "python",
   "name": "python3"
  },
  "language_info": {
   "codemirror_mode": {
    "name": "ipython",
    "version": 2
   },
   "file_extension": ".py",
   "mimetype": "text/x-python",
   "name": "python",
   "nbconvert_exporter": "python",
   "pygments_lexer": "ipython2",
   "version": "2.7.6"
  }
 },
 "nbformat": 4,
 "nbformat_minor": 0
}
